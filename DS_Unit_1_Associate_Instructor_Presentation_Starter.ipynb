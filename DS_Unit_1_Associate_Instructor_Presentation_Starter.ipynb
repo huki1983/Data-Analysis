{
  "nbformat": 4,
  "nbformat_minor": 0,
  "metadata": {
    "colab": {
      "name": "DS Unit 1 Associate Instructor Presentation Starter.ipynb",
      "provenance": [],
      "include_colab_link": true
    },
    "kernelspec": {
      "name": "python3",
      "display_name": "Python 3"
    }
  },
  "cells": [
    {
      "cell_type": "markdown",
      "metadata": {
        "id": "view-in-github",
        "colab_type": "text"
      },
      "source": [
        "<a href=\"https://colab.research.google.com/github/huki1983/Data-Analysis/blob/master/DS_Unit_1_Associate_Instructor_Presentation_Starter.ipynb\" target=\"_parent\"><img src=\"https://colab.research.google.com/assets/colab-badge.svg\" alt=\"Open In Colab\"/></a>"
      ]
    },
    {
      "cell_type": "markdown",
      "metadata": {
        "id": "9fhm0XbYAjUK"
      },
      "source": [
        "# Objectives:\n",
        "\n",
        "- Student can execute the steps of a 1-sample T-test\n",
        "- Student can perform a 1-sample t-test with Scipy\n"
      ]
    },
    {
      "cell_type": "markdown",
      "metadata": {
        "id": "_SHwenjbCxTK"
      },
      "source": [
        "# Introduction\n",
        "\n",
        "A one sample t-test is used to detect statistically significant differences between a sample mean and a known or hypothesized population value. \n",
        "\n",
        "![Inferential Statistics](https://slideplayer.com/slide/5130463/16/images/2/Statistical+Inference.jpg)"
      ]
    },
    {
      "cell_type": "markdown",
      "metadata": {
        "id": "YK2ICa5O3UXL"
      },
      "source": [
        "### Lets use the Adult dataset to practice some 1-sample t-tests"
      ]
    },
    {
      "cell_type": "code",
      "metadata": {
        "id": "DYwrvl0K3XzS",
        "outputId": "43f9d5a1-69d6-4b9e-b099-9e3f858d00c1",
        "colab": {
          "base_uri": "https://localhost:8080/",
          "height": 306
        }
      },
      "source": [
        "import pandas as pd\n",
        "\n",
        "data_url = 'http://archive.ics.uci.edu/ml/machine-learning-databases/adult/adult.data'\n",
        "\n",
        "column_headers = ['age', 'workclass', 'fnlwgt', 'education', 'education-num', \n",
        "                  'marital-status', 'occupation', 'relationship', 'race', 'sex', \n",
        "                  'capital-gain', 'capital-loss', 'hours-per-week', \n",
        "                  'native-country', 'income']\n",
        "\n",
        "df = pd.read_csv(data_url, names=column_headers, skipinitialspace=True)\n",
        "\n",
        "print(df.shape)\n",
        "df.head()"
      ],
      "execution_count": null,
      "outputs": [
        {
          "output_type": "stream",
          "text": [
            "(32561, 15)\n"
          ],
          "name": "stdout"
        },
        {
          "output_type": "execute_result",
          "data": {
            "text/html": [
              "<div>\n",
              "<style scoped>\n",
              "    .dataframe tbody tr th:only-of-type {\n",
              "        vertical-align: middle;\n",
              "    }\n",
              "\n",
              "    .dataframe tbody tr th {\n",
              "        vertical-align: top;\n",
              "    }\n",
              "\n",
              "    .dataframe thead th {\n",
              "        text-align: right;\n",
              "    }\n",
              "</style>\n",
              "<table border=\"1\" class=\"dataframe\">\n",
              "  <thead>\n",
              "    <tr style=\"text-align: right;\">\n",
              "      <th></th>\n",
              "      <th>age</th>\n",
              "      <th>workclass</th>\n",
              "      <th>fnlwgt</th>\n",
              "      <th>education</th>\n",
              "      <th>education-num</th>\n",
              "      <th>marital-status</th>\n",
              "      <th>occupation</th>\n",
              "      <th>relationship</th>\n",
              "      <th>race</th>\n",
              "      <th>sex</th>\n",
              "      <th>capital-gain</th>\n",
              "      <th>capital-loss</th>\n",
              "      <th>hours-per-week</th>\n",
              "      <th>native-country</th>\n",
              "      <th>income</th>\n",
              "    </tr>\n",
              "  </thead>\n",
              "  <tbody>\n",
              "    <tr>\n",
              "      <th>0</th>\n",
              "      <td>39</td>\n",
              "      <td>State-gov</td>\n",
              "      <td>77516</td>\n",
              "      <td>Bachelors</td>\n",
              "      <td>13</td>\n",
              "      <td>Never-married</td>\n",
              "      <td>Adm-clerical</td>\n",
              "      <td>Not-in-family</td>\n",
              "      <td>White</td>\n",
              "      <td>Male</td>\n",
              "      <td>2174</td>\n",
              "      <td>0</td>\n",
              "      <td>40</td>\n",
              "      <td>United-States</td>\n",
              "      <td>&lt;=50K</td>\n",
              "    </tr>\n",
              "    <tr>\n",
              "      <th>1</th>\n",
              "      <td>50</td>\n",
              "      <td>Self-emp-not-inc</td>\n",
              "      <td>83311</td>\n",
              "      <td>Bachelors</td>\n",
              "      <td>13</td>\n",
              "      <td>Married-civ-spouse</td>\n",
              "      <td>Exec-managerial</td>\n",
              "      <td>Husband</td>\n",
              "      <td>White</td>\n",
              "      <td>Male</td>\n",
              "      <td>0</td>\n",
              "      <td>0</td>\n",
              "      <td>13</td>\n",
              "      <td>United-States</td>\n",
              "      <td>&lt;=50K</td>\n",
              "    </tr>\n",
              "    <tr>\n",
              "      <th>2</th>\n",
              "      <td>38</td>\n",
              "      <td>Private</td>\n",
              "      <td>215646</td>\n",
              "      <td>HS-grad</td>\n",
              "      <td>9</td>\n",
              "      <td>Divorced</td>\n",
              "      <td>Handlers-cleaners</td>\n",
              "      <td>Not-in-family</td>\n",
              "      <td>White</td>\n",
              "      <td>Male</td>\n",
              "      <td>0</td>\n",
              "      <td>0</td>\n",
              "      <td>40</td>\n",
              "      <td>United-States</td>\n",
              "      <td>&lt;=50K</td>\n",
              "    </tr>\n",
              "    <tr>\n",
              "      <th>3</th>\n",
              "      <td>53</td>\n",
              "      <td>Private</td>\n",
              "      <td>234721</td>\n",
              "      <td>11th</td>\n",
              "      <td>7</td>\n",
              "      <td>Married-civ-spouse</td>\n",
              "      <td>Handlers-cleaners</td>\n",
              "      <td>Husband</td>\n",
              "      <td>Black</td>\n",
              "      <td>Male</td>\n",
              "      <td>0</td>\n",
              "      <td>0</td>\n",
              "      <td>40</td>\n",
              "      <td>United-States</td>\n",
              "      <td>&lt;=50K</td>\n",
              "    </tr>\n",
              "    <tr>\n",
              "      <th>4</th>\n",
              "      <td>28</td>\n",
              "      <td>Private</td>\n",
              "      <td>338409</td>\n",
              "      <td>Bachelors</td>\n",
              "      <td>13</td>\n",
              "      <td>Married-civ-spouse</td>\n",
              "      <td>Prof-specialty</td>\n",
              "      <td>Wife</td>\n",
              "      <td>Black</td>\n",
              "      <td>Female</td>\n",
              "      <td>0</td>\n",
              "      <td>0</td>\n",
              "      <td>40</td>\n",
              "      <td>Cuba</td>\n",
              "      <td>&lt;=50K</td>\n",
              "    </tr>\n",
              "  </tbody>\n",
              "</table>\n",
              "</div>"
            ],
            "text/plain": [
              "   age         workclass  fnlwgt  ... hours-per-week  native-country income\n",
              "0   39         State-gov   77516  ...             40   United-States  <=50K\n",
              "1   50  Self-emp-not-inc   83311  ...             13   United-States  <=50K\n",
              "2   38           Private  215646  ...             40   United-States  <=50K\n",
              "3   53           Private  234721  ...             40   United-States  <=50K\n",
              "4   28           Private  338409  ...             40            Cuba  <=50K\n",
              "\n",
              "[5 rows x 15 columns]"
            ]
          },
          "metadata": {
            "tags": []
          },
          "execution_count": 38
        }
      ]
    },
    {
      "cell_type": "markdown",
      "metadata": {
        "id": "MeYz_YUE4RpJ"
      },
      "source": [
        "This dataset was sourced from US census responders from 1994 so it is not necessarily representative of the United States at large but is only representative of census responders from that year. \n",
        "\n",
        "In order to demonstrate how sample statistics can be used estimate population parameters, we will treat this dataset as if it was the \"population\" that we were trying to estimate.\n",
        "\n",
        "We'll randomly sample from this dataset and try to estimate its population parameters. Let's estimate the average number of years of education completed by census responders in 1994. \n",
        "\n",
        "As we select our random sample we will use a **`random_state` of 42** to make sure that we get the same random sample every time we sample the data. "
      ]
    },
    {
      "cell_type": "code",
      "metadata": {
        "id": "xzwrevCN5gnb"
      },
      "source": [
        ""
      ],
      "execution_count": null,
      "outputs": []
    },
    {
      "cell_type": "markdown",
      "metadata": {
        "id": "W5pyDVWqC1sa"
      },
      "source": [
        "## Steps of a One Sample T-test\n",
        "\n",
        "A one sample t-test will help us test if our sample statistic (sample mean) is reflective of our concept of the population (population mean).\n",
        "\n",
        "### 1) Null Hypothesis\n",
        "\n",
        "The null hypothesis in a 1-sample t-test is that there is no significant difference between our population mean (null hypothsis value) and the sample mean.\n",
        "\n",
        "Stated in mathematical terms:\n",
        "\n",
        "$H_0: \\mu == \\overline{x}$\n",
        "\n",
        "Where $\\mu$ is the population mean, and $\\overline{x}$ is the sample mean.\n",
        "\n",
        "Any sample mean that is different enough from the population mean to be deemed \"statistically significant\" indicates that the two values are so far apart that it is unlikely that those differences could have been due to the randomness of sampling (e.g. due to us just getting an unlucky sample). The technical term for the \"randomness of sampling\" is called \"experimental error.\" \n",
        "\n",
        "In hypothesis testing we seek to \"nullify\" the null hypothesis (hence the name). However, we won't reject this hypothesis unless there is ample evidence against it.\n"
      ]
    },
    {
      "cell_type": "code",
      "metadata": {
        "id": "cEWWexVbFnEM"
      },
      "source": [
        ""
      ],
      "execution_count": null,
      "outputs": []
    },
    {
      "cell_type": "markdown",
      "metadata": {
        "id": "APPG0hB4-V5q"
      },
      "source": [
        "### 2) Alternative Hypothesis\n",
        "\n",
        "The alternative hypothesis is always the opposite of the null hypothesis. Since they are logical opposites this means that they can't both be true at the same time. Our hypothesis test will help us decide between the two statements.\n",
        "\n",
        "$H_a: \\mu \\neq \\overline{x}$\n",
        "\n",
        "Our alternative hypothesis is that our sample mean is not equal to the population mean. If we reject the null hypothesis then we are indicating that the alternative hypothesis is likely to be true."
      ]
    },
    {
      "cell_type": "markdown",
      "metadata": {
        "id": "UQ_fQz8JAiri"
      },
      "source": [
        "### 3) Confidence Level\n",
        "\n",
        "A Confidence Level is threshold that we pick to determine how likely the alternative hypothesis needs to be in order for us to reject the null hypothesis. In many areas of academic study and statistics using a 95% confidence interval as this threshold is a common convention. \n",
        "\n",
        "If we use a 95% confidence level then we will not reject the null hypothesis unless there is less than a 5% chance that it is true. "
      ]
    },
    {
      "cell_type": "markdown",
      "metadata": {
        "id": "anLMv_gqAlSm"
      },
      "source": [
        "### At this point we are ready to run our t-test"
      ]
    },
    {
      "cell_type": "code",
      "metadata": {
        "id": "MaxNTFv8Amov"
      },
      "source": [
        ""
      ],
      "execution_count": null,
      "outputs": []
    },
    {
      "cell_type": "markdown",
      "metadata": {
        "id": "V6jMpk_85bDw"
      },
      "source": [
        "###4) T-statistic and P-value\n",
        "\n",
        "A t-statistic is a measure of how different our sample mean is to our population mean given the sample size that we are using. The t-statistic is translated into a p-value (a probability).\n",
        "\n",
        "### **The P-value is the likelihood (probability) that the null hypothesis is true given the sample that we have collected.**\n",
        "\n",
        "In our case, since the p-value is greater than .05 we will fail to reject the null hypothesis (remember that we need to be 95% confident that the alternative hypothesis is true e.g. < 5% confident that the null hypothesis is true.\n"
      ]
    },
    {
      "cell_type": "markdown",
      "metadata": {
        "id": "9oEzZro-BTvY"
      },
      "source": [
        "### 5) Conclusion\n",
        "\n",
        "After each test we will provide a written conclusion reporting the results of the test, an appropriate conclusion might look something like:\n",
        "\n",
        "> Due to a t-statistic of 1.128 and a p-value of .273 we fail to reject the null hypothesis that the sample mean is different than the population mean.\n",
        "\n",
        "\n",
        "Why the phrase \"fail to reject\" and not just say \"accept\"? At the end of the day we're dealing with probabilities and there's still a chance that we could be wrong. We just don't have enough evidence to nullify the null hypothesis, that doesn't necessarily mean that it's true."
      ]
    },
    {
      "cell_type": "markdown",
      "metadata": {
        "id": "jt0NA6NbBpS8"
      },
      "source": [
        "## More Examples:\n",
        "\n",
        "Imagine that someone makes the claim that the average number of years of education obtained by female census responders in the year 1994 was 10.\n",
        "\n",
        "Lets generate a sample and test this hypothesis. Again, we'll use a sample size of 20. We will also continue to use the same `random_state` of 42."
      ]
    },
    {
      "cell_type": "code",
      "metadata": {
        "id": "gDfPznMpBmie"
      },
      "source": [
        ""
      ],
      "execution_count": null,
      "outputs": []
    },
    {
      "cell_type": "markdown",
      "metadata": {
        "id": "jtI659amDJBV"
      },
      "source": [
        "1) Null Hypothesis:\n",
        "\n",
        "Average number of years of education obtained by female census responders is equal to 10 years.\n",
        "\n",
        "2) Alternative Hypothesis:\n",
        "\n",
        "Average number of years of education obtained by female census responders is different from 10 years.\n",
        "\n",
        "3) Confidence Level: 95%"
      ]
    },
    {
      "cell_type": "code",
      "metadata": {
        "id": "e7-hXwYhCVBo"
      },
      "source": [
        ""
      ],
      "execution_count": null,
      "outputs": []
    },
    {
      "cell_type": "markdown",
      "metadata": {
        "id": "Qtf0dPQsDkvG"
      },
      "source": [
        "4 & 5) Conclusion:\n",
        "\n",
        "Due to a t-statistic of .753 and a p-value of .46, we **fail to reject** the null hypothesis that the average number of years of education obtained by female census responders is 10.\n",
        "\n",
        "We have a low p-value here, but not low enough to reject the null hypothesis, our p-value has to be < .05 in order for us to reject the null hypothesis."
      ]
    },
    {
      "cell_type": "markdown",
      "metadata": {
        "id": "0ojNtcCHDztd"
      },
      "source": [
        "### Now lets increase the sample size.\n",
        "\n",
        "This time we will use a sample size of 50, using a same `random_state` of 42."
      ]
    },
    {
      "cell_type": "code",
      "metadata": {
        "id": "07GauqsgDbNG"
      },
      "source": [
        ""
      ],
      "execution_count": null,
      "outputs": []
    },
    {
      "cell_type": "markdown",
      "metadata": {
        "id": "nSvh-xARD89u"
      },
      "source": [
        "1) Null Hypothesis:\n",
        "\n",
        "Average number of years of education obtained by female census responders is equal to 10 years.\n",
        "\n",
        "2) Alternative Hypothesis:\n",
        "\n",
        "Average number of years of education obtained by female census responders is different from 10 years.\n",
        "\n",
        "3) Confidence Level: 95%"
      ]
    },
    {
      "cell_type": "code",
      "metadata": {
        "id": "vkpJfFnXD-Iq"
      },
      "source": [
        ""
      ],
      "execution_count": null,
      "outputs": []
    },
    {
      "cell_type": "markdown",
      "metadata": {
        "id": "LhoT6xhpEdXi"
      },
      "source": [
        "4 & 5) Conclusion:\n",
        "\n",
        "Based on a t-statistic of 2.15 and a p-value of .036 we will **reject** the null hypothesis that the average number of years of education obtained by female census respondents is equal to 10 and suggest the alternative hypothesis that that it must be different than 10 years. "
      ]
    },
    {
      "cell_type": "markdown",
      "metadata": {
        "id": "fv9wdbIYPvia"
      },
      "source": [
        "## More examples from the dataset as time allows."
      ]
    },
    {
      "cell_type": "code",
      "metadata": {
        "id": "4JdtkwplPtVe"
      },
      "source": [
        ""
      ],
      "execution_count": null,
      "outputs": []
    }
  ]
}